{
 "cells": [
  {
   "cell_type": "markdown",
   "id": "6445758d",
   "metadata": {},
   "source": [
    "# My Jupyter Notebook on Watson Studio"
   ]
  },
  {
   "cell_type": "markdown",
   "id": "4bf35852",
   "metadata": {},
   "source": [
    "**Mahi Reddy**  \n",
    "New to Data Science World! "
   ]
  },
  {
   "cell_type": "markdown",
   "id": "52dff148",
   "metadata": {},
   "source": [
    "*Wanna learn more about Machine Learning techniques and apply them in real world scenarios and create an impact in business!*"
   ]
  },
  {
   "cell_type": "markdown",
   "id": "a7184561",
   "metadata": {},
   "source": [
    "### The following code tests the Gauss formula"
   ]
  },
  {
   "cell_type": "code",
   "execution_count": 3,
   "id": "9a48f576",
   "metadata": {},
   "outputs": [
    {
     "data": {
      "text/plain": [
       "True"
      ]
     },
     "execution_count": 3,
     "metadata": {},
     "output_type": "execute_result"
    }
   ],
   "source": [
    "def gauss(n):\n",
    "    return (n*(n+1))/2\n",
    "gauss(100) == sum(range(101))"
   ]
  },
  {
   "cell_type": "markdown",
   "id": "32e59101",
   "metadata": {},
   "source": [
    "***\n",
    "- one\n",
    "- two\n",
    "- three\n",
    "1. One\n",
    "2. Two\n",
    "3. Three\n",
    "\n",
    "|MarkDown|Less|Pretty|\n",
    "|--------|----|------|\n",
    "|still|renders|nicely|\n",
    "|1|2|3|\n",
    "\n",
    "(www.ibm.com)\n",
    "\n",
    "![The San Juan Mountains are beautiful!](https://mdg.imgix.net/assets/images/san-juan-mountains.jpg?auto=format&fit=clip&q=40&w=1080)\n",
    "\n",
    "```json\n",
    "{\n",
    "  \"firstName\": \"Mahi\",\n",
    "  \"lastName\": \"Reddy\",\n",
    "  \"age\": 25\n",
    "}\n",
    "```\n",
    "\n",
    ">Need to submit this notebook via github\n",
    "\n",
    "~~Learning Data Science Course in Courseera~~"
   ]
  }
 ],
 "metadata": {
  "kernelspec": {
   "display_name": "Python 3 (ipykernel)",
   "language": "python",
   "name": "python3"
  },
  "language_info": {
   "codemirror_mode": {
    "name": "ipython",
    "version": 3
   },
   "file_extension": ".py",
   "mimetype": "text/x-python",
   "name": "python",
   "nbconvert_exporter": "python",
   "pygments_lexer": "ipython3",
   "version": "3.9.7"
  }
 },
 "nbformat": 4,
 "nbformat_minor": 5
}
